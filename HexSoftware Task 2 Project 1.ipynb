{
 "cells": [
  {
   "cell_type": "code",
   "execution_count": 1,
   "id": "2c64383e",
   "metadata": {},
   "outputs": [
    {
     "name": "stdout",
     "output_type": "stream",
     "text": [
      "✅ Scraping complete! Data saved to 'products.csv'\n"
     ]
    }
   ],
   "source": [
    "import requests\n",
    "from bs4 import BeautifulSoup\n",
    "import pandas as pd\n",
    "from urllib.parse import urljoin\n",
    "\n",
    "# Target website (safe for scraping)\n",
    "BASE_URL = \"https://books.toscrape.com/\"\n",
    "URL = urljoin(BASE_URL, \"catalogue/page-1.html\")\n",
    "\n",
    "products = []\n",
    "\n",
    "while URL:\n",
    "    response = requests.get(URL)\n",
    "    response.encoding = \"utf-8\"  # ensure proper encoding\n",
    "    soup = BeautifulSoup(response.text, \"html.parser\")\n",
    "\n",
    "    # Extract product information\n",
    "    for product in soup.select(\"article.product_pod\"):\n",
    "        title = product.h3.a[\"title\"]\n",
    "        price = product.select_one(\".price_color\").text.replace(\"Â\", \"\").strip()\n",
    "        availability = product.select_one(\".instock.availability\").text.strip()\n",
    "        rating = product.p[\"class\"][1]  # Star rating (e.g., \"Three\", \"Four\", etc.)\n",
    "        relative_link = product.h3.a[\"href\"]\n",
    "\n",
    "        # Ensure all product URLs contain 'catalogue/'\n",
    "        if \"catalogue/\" not in relative_link:\n",
    "            relative_link = \"catalogue/\" + relative_link.lstrip(\"./\")\n",
    "\n",
    "        # Construct full absolute URL safely\n",
    "        full_link = urljoin(BASE_URL, relative_link)\n",
    "\n",
    "        products.append({\n",
    "            \"Title\": title,\n",
    "            \"Price\": price,\n",
    "            \"Availability\": availability,\n",
    "            \"Rating\": rating,\n",
    "            \"Full_Link\": full_link\n",
    "        })\n",
    "\n",
    "    # Find next page\n",
    "    next_page = soup.select_one(\"li.next > a\")\n",
    "    if next_page:\n",
    "        URL = urljoin(URL, next_page[\"href\"])\n",
    "    else:\n",
    "        URL = None\n",
    "\n",
    "# Save to CSV (ensure UTF-8 encoding)\n",
    "df = pd.DataFrame(products)\n",
    "# Make Excel-clickable hyperlinks using the HYPERLINK formula\n",
    "df[\"Full_Link\"] = '=HYPERLINK(\"' + df[\"Full_Link\"] + '\", \"Click\")'\n",
    "df.to_csv(\"products.csv\", index=False, encoding=\"utf-8-sig\")\n",
    "\n",
    "print(\"✅ Scraping complete! Data saved to 'products.csv'\")\n"
   ]
  },
  {
   "cell_type": "code",
   "execution_count": null,
   "id": "90fad61d",
   "metadata": {},
   "outputs": [],
   "source": []
  }
 ],
 "metadata": {
  "kernelspec": {
   "display_name": "Python 3 (ipykernel)",
   "language": "python",
   "name": "python3"
  },
  "language_info": {
   "codemirror_mode": {
    "name": "ipython",
    "version": 3
   },
   "file_extension": ".py",
   "mimetype": "text/x-python",
   "name": "python",
   "nbconvert_exporter": "python",
   "pygments_lexer": "ipython3",
   "version": "3.11.4"
  }
 },
 "nbformat": 4,
 "nbformat_minor": 5
}
